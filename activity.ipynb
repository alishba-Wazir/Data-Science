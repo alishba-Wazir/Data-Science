{
 "cells": [
  {
   "cell_type": "code",
   "execution_count": 1,
   "id": "10803b63",
   "metadata": {},
   "outputs": [
    {
     "name": "stdin",
     "output_type": "stream",
     "text": [
      "Enter score:  12\n"
     ]
    },
    {
     "name": "stdout",
     "output_type": "stream",
     "text": [
      "Bad score\n"
     ]
    }
   ],
   "source": [
    "# Prompt the user to enter a score between 0.0 and 1.0\n",
    "score_input = input(\"Enter score: \")\n",
    "\n",
    "try:\n",
    "    # Convert the input string to a floating-point number\n",
    "    score = float(score_input)\n",
    "\n",
    "    # Check if the score is within the valid range\n",
    "    if score < 0.0 or score > 1.0:\n",
    "        print(\"Bad score\")\n",
    "    else:\n",
    "        # Determine the grade based on the score\n",
    "        if score >= 0.9:\n",
    "            grade = 'A'\n",
    "        elif score >= 0.8:\n",
    "            grade = 'B'\n",
    "        elif score >= 0.7:\n",
    "            grade = 'C'\n",
    "        elif score >= 0.6:\n",
    "            grade = 'D'\n",
    "        else:\n",
    "            grade = 'F'\n",
    "        # Print the corresponding grade\n",
    "        print(grade)\n",
    "except ValueError:\n",
    "    # Handle the case where the input is not a valid float\n",
    "    print(\"Bad score\")\n"
   ]
  },
  {
   "cell_type": "code",
   "execution_count": null,
   "id": "a71caa69",
   "metadata": {},
   "outputs": [],
   "source": [
    "# Prompt the user for input\n",
    "hours = float(input(\"Enter hours: \"))\n",
    "rate = float(input(\"Enter rate per hour: \"))\n",
    "\n",
    "# Calculate gross pay\n",
    "if hours <= 40:\n",
    "    gross_pay = hours * rate\n",
    "else:\n",
    "    # Calculate overtime\n",
    "    regular_pay = 40 * rate\n",
    "    overtime_pay = (hours - 40) * (rate * 1.5)\n",
    "    gross_pay = regular_pay + overtime_pay\n",
    "\n",
    "# Output the result\n",
    "print(\"Gross pay: $\", gross_pay)\n"
   ]
  },
  {
   "cell_type": "code",
   "execution_count": null,
   "id": "372aa144",
   "metadata": {},
   "outputs": [],
   "source": [
    "# Prompt the user to enter a score between 0.0 and 1.0\n",
    "score_input = input(\"Enter score: \")\n",
    "\n",
    "# Check if the input is a valid floating-point number\n",
    "if score_input.replace('.', '', 1).isdigit() and score_input.count('.') <= 1:\n",
    "    # Convert the input string to a floating-point number\n",
    "    score = float(score_input)\n",
    "\n",
    "    # Check if the score is within the valid range\n",
    "    if score < 0.0 or score > 1.0:\n",
    "        print(\"Bad score\")\n",
    "    else:\n",
    "        # Determine the grade based on the score\n",
    "        if score >= 0.9:\n",
    "            grade = 'A'\n",
    "        elif score >= 0.8:\n",
    "            grade = 'B'\n",
    "        elif score >= 0.7:\n",
    "            grade = 'C'\n",
    "        elif score >= 0.6:\n",
    "            grade = 'D'\n",
    "        else:\n",
    "            grade = 'F'\n",
    "        # Print the corresponding grade\n",
    "        print(grade)\n",
    "else:\n",
    "    # Handle the case where the input is not a valid float\n",
    "    print(\"Bad score\")\n"
   ]
  }
 ],
 "metadata": {
  "kernelspec": {
   "display_name": "Python 3 (ipykernel)",
   "language": "python",
   "name": "python3"
  },
  "language_info": {
   "codemirror_mode": {
    "name": "ipython",
    "version": 3
   },
   "file_extension": ".py",
   "mimetype": "text/x-python",
   "name": "python",
   "nbconvert_exporter": "python",
   "pygments_lexer": "ipython3",
   "version": "3.12.4"
  }
 },
 "nbformat": 4,
 "nbformat_minor": 5
}
